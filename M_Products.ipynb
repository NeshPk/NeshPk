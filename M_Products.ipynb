{
  "nbformat": 4,
  "nbformat_minor": 0,
  "metadata": {
    "colab": {
      "provenance": [],
      "include_colab_link": true
    },
    "kernelspec": {
      "name": "python3",
      "display_name": "Python 3"
    },
    "language_info": {
      "name": "python"
    }
  },
  "cells": [
    {
      "cell_type": "markdown",
      "metadata": {
        "id": "view-in-github",
        "colab_type": "text"
      },
      "source": [
        "<a href=\"https://colab.research.google.com/github/NeshPk/NeshPk/blob/main/M_Products.ipynb\" target=\"_parent\"><img src=\"https://colab.research.google.com/assets/colab-badge.svg\" alt=\"Open In Colab\"/></a>"
      ]
    },
    {
      "cell_type": "markdown",
      "source": [
        "##### 【Problem 1 】 Hand calculate matrix"
      ],
      "metadata": {
        "id": "RuSi3zJH_mwR"
      }
    },
    {
      "cell_type": "markdown",
      "source": [
        "Row 1 of A, Column 1 of B\n",
        "(-1 * 0) + (2 * 0) + (3 * 2) = 0 + 0 + 6 = 6\n",
        "\n",
        "Row 1 of A, Column 2 of B:\n",
        "(-1 * 2) + (2 * 2) + (3 * 9) = -2 + 4 + 27 = 29\n",
        "\n",
        "Row 1 of A, Column 3 of B:\n",
        "(-1 * 1) + (2 * -8) + (3 * -1) = -1 - 16 - 3 = -20\n",
        "\n",
        "Row 2 of A, Column 1 of B:\n",
        "(4 * 0) + (-5 * 0) + (6 * 2) = 0 + 0 + 12 = 12\n",
        "\n",
        "Row 2 of A, Column 2 of B:\n",
        "(4 * 2) + (-5 * 2) + (6 * 9) = 8 - 10 + 54 = 52\n",
        "\n",
        "Row 2 of A, Column 3 of B:\n",
        "(4 * 1) + (-5 * -8) + (6 * -1) = 4 + 40 - 6 = 38\n",
        "\n",
        "Row 3 of A, Column 1 of B:\n",
        "(7 * 0) + (8 * 0) + (-9 * 2) = 0 + 0 - 18 = -18\n",
        "\n",
        "Row 3 of A, Column 2 of B:\n",
        "(7 * 2) + (8 * 2) + (-9 * 9) = 14 + 16 - 81 = -51\n",
        "\n",
        "Row 3 of A, Column 3 of B:\n",
        "(7 * 1) + (8 * -8) + (-9 * -1) = 7 - 64 + 9 = -48"
      ],
      "metadata": {
        "id": "PXphcQRi_tQt"
      }
    },
    {
      "cell_type": "markdown",
      "source": [
        "##### 【Problem 2 】 Calculation by a function of NumPy"
      ],
      "metadata": {
        "id": "SXblHoRUBRfl"
      }
    },
    {
      "cell_type": "code",
      "execution_count": 1,
      "metadata": {
        "colab": {
          "base_uri": "https://localhost:8080/"
        },
        "id": "YjpvooC8_I-Q",
        "outputId": "92f38936-b041-49f8-c55f-4044eaaefe19"
      },
      "outputs": [
        {
          "output_type": "stream",
          "name": "stdout",
          "text": [
            "Result using np.matmul():\n",
            " [[  6  29 -20]\n",
            " [ 12  52  38]\n",
            " [-18 -51 -48]]\n",
            "\n",
            "Result using np.dot():\n",
            " [[  6  29 -20]\n",
            " [ 12  52  38]\n",
            " [-18 -51 -48]]\n",
            "\n",
            "Result using @ operator:\n",
            " [[  6  29 -20]\n",
            " [ 12  52  38]\n",
            " [-18 -51 -48]]\n"
          ]
        }
      ],
      "source": [
        "import numpy as np\n",
        "\n",
        "a_ndarray = np.array([[-1, 2, 3], [4, -5, 6], [7, 8, -9]])\n",
        "b_ndarray = np.array([[0, 2, 1], [0, 2, -8], [2, 9, -1]])\n",
        "\n",
        "# 1. Using np.matmul():\n",
        "result_matmul = np.matmul(a_ndarray, b_ndarray)\n",
        "print(\"Result using np.matmul():\\n\", result_matmul)\n",
        "\n",
        "# 2. Using np.dot():\n",
        "result_dot = np.dot(a_ndarray, b_ndarray)\n",
        "print(\"\\nResult using np.dot():\\n\", result_dot)\n",
        "\n",
        "# 3. Using @ operator:\n",
        "result_at = a_ndarray @ b_ndarray\n",
        "print(\"\\nResult using @ operator:\\n\", result_at)\n"
      ]
    },
    {
      "cell_type": "markdown",
      "source": [
        "##### 【Problem 3 】 Implement calculation of certain elements"
      ],
      "metadata": {
        "id": "RO6_PB8zCCCx"
      }
    },
    {
      "cell_type": "code",
      "source": [
        "def calculate_element_00(matrix_a, matrix_b):\n",
        "\n",
        "    result = 0\n",
        "    for k in range(matrix_a.shape[1]):  # Iterate through columns of A (or rows of B)\n",
        "        result += matrix_a[0, k] * matrix_b[k, 0]\n",
        "    return result\n",
        "\n",
        "element_00 = calculate_element_00(a_ndarray, b_ndarray)\n",
        "print(\"Element (0, 0) of the matrix product:\", element_00)"
      ],
      "metadata": {
        "colab": {
          "base_uri": "https://localhost:8080/"
        },
        "id": "Zu6Iz7YgBZAT",
        "outputId": "b8b2eee7-f2c1-44cf-b8cb-bf3f5754d760"
      },
      "execution_count": 2,
      "outputs": [
        {
          "output_type": "stream",
          "name": "stdout",
          "text": [
            "Element (0, 0) of the matrix product: 6\n"
          ]
        }
      ]
    },
    {
      "cell_type": "markdown",
      "source": [
        "##### Problem 4 】 Creating a function to perform matrix products"
      ],
      "metadata": {
        "id": "pfSvOnA3Cm63"
      }
    },
    {
      "cell_type": "code",
      "source": [
        "def matrix_multiply_scratch(matrix_a, matrix_b):\n",
        "\n",
        "    rows_a = matrix_a.shape[0]\n",
        "    cols_a = matrix_a.shape[1]\n",
        "    cols_b = matrix_b.shape[1]\n",
        "\n",
        "    # Initialize the result matrix with zeros\n",
        "    result_matrix = np.zeros((rows_a, cols_b))\n",
        "\n",
        "    for i in range(rows_a):  # Iterate through rows of A\n",
        "        for j in range(cols_b):  # Iterate through columns of B\n",
        "            for k in range(cols_a):  # Iterate through columns of A (or rows of B)\n",
        "                result_matrix[i, j] += matrix_a[i, k] * matrix_b[k, j]\n",
        "\n",
        "    return result_matrix\n",
        "\n",
        "result = matrix_multiply_scratch(a_ndarray, b_ndarray)\n",
        "print(\"Matrix product from scratch:\\n\", result)"
      ],
      "metadata": {
        "colab": {
          "base_uri": "https://localhost:8080/"
        },
        "id": "8zFsIMq2CM6O",
        "outputId": "d42fd781-79a4-4eec-b61b-62c2cb2ebc16"
      },
      "execution_count": null,
      "outputs": [
        {
          "output_type": "stream",
          "name": "stdout",
          "text": [
            "Matrix product from scratch:\n",
            " [[  6.  29. -20.]\n",
            " [ 12.  52.  38.]\n",
            " [-18. -51. -48.]]\n"
          ]
        }
      ]
    },
    {
      "cell_type": "markdown",
      "source": [
        "##### 【Problem 5 】 Determine input whose calculation is not defined"
      ],
      "metadata": {
        "id": "FCYAkVwUDIZr"
      }
    },
    {
      "cell_type": "code",
      "source": [
        "import numpy as np\n",
        "\n",
        "d_ndarray = np.array([[-1, 2, 3], [4, -5, 6]])\n",
        "e_ndarray = np.array([[-9, 8, 7], [6, -5, 4]])\n",
        "\n",
        "def matrix_multiply_scratch(matrix_a, matrix_b):\n",
        "\n",
        "    rows_a = matrix_a.shape[0]\n",
        "    cols_a = matrix_a.shape[1]\n",
        "    rows_b = matrix_b.shape[0]\n",
        "    cols_b = matrix_b.shape[1]\n",
        "\n",
        "    # Check if the matrices can be multiplied\n",
        "    if cols_a != rows_b:\n",
        "        print(\"Error: Matrices cannot be multiplied. Number of columns in the first matrix must equal the number of rows in the second matrix.\")\n",
        "        print(f\"Matrix A shape: {matrix_a.shape}\")\n",
        "        print(f\"Matrix B shape: {matrix_b.shape}\")\n",
        "        return None  # Return None to indicate an error\n",
        "\n",
        "    # Initialize the result matrix with zeros\n",
        "    result_matrix = np.zeros((rows_a, cols_b))\n",
        "\n",
        "    for i in range(rows_a):  # Iterate through rows of A\n",
        "        for j in range(cols_b):  # Iterate through columns of B\n",
        "            for k in range(cols_a):  # Iterate through columns of A (or rows of B)\n",
        "                result_matrix[i, j] += matrix_a[i, k] * matrix_b[k, j]\n",
        "\n",
        "    return result_matrix\n",
        "\n",
        "result_de = matrix_multiply_scratch(d_ndarray, e_ndarray)\n",
        "print(\"Matrix product D * E:\\n\", result_de)"
      ],
      "metadata": {
        "colab": {
          "base_uri": "https://localhost:8080/"
        },
        "id": "btjSehqNC32z",
        "outputId": "d353efa3-475b-4271-9d7d-10c817de21b2"
      },
      "execution_count": null,
      "outputs": [
        {
          "output_type": "stream",
          "name": "stdout",
          "text": [
            "Error: Matrices cannot be multiplied. Number of columns in the first matrix must equal the number of rows in the second matrix.\n",
            "Matrix A shape: (2, 3)\n",
            "Matrix B shape: (2, 3)\n",
            "Matrix product D * E:\n",
            " None\n"
          ]
        }
      ]
    },
    {
      "cell_type": "markdown",
      "source": [
        "##### 【Problem 6 】 Transposition"
      ],
      "metadata": {
        "id": "t1TZcnO1D8ir"
      }
    },
    {
      "cell_type": "code",
      "source": [
        "import numpy as np\n",
        "\n",
        "d_ndarray = np.array([[-1, 2, 3], [4, -5, 6]])\n",
        "e_ndarray = np.array([[-9, 8, 7], [6, -5, 4]])\n",
        "\n",
        "#Using np.transpose()\n",
        "e_transposed_transpose = np.transpose(e_ndarray)\n",
        "print(\"E Transposed using np.transpose():\\n\", e_transposed_transpose)\n",
        "\n",
        "#Using .T attribute:\n",
        "e_transposed_t = e_ndarray.T\n",
        "print(\"E Transposed using .T:\\n\", e_transposed_t)\n",
        "\n",
        "#calvulate the matrix product\n",
        "result_d_etranspose = np.matmul(d_ndarray, e_transposed_t)\n",
        "print(\"Matrix product D * E.T:\\n\", result_d_etranspose)\n",
        "\n"
      ],
      "metadata": {
        "colab": {
          "base_uri": "https://localhost:8080/"
        },
        "id": "HZwnemM9DP-x",
        "outputId": "641dcea8-4921-4664-bb7a-40f34e094e85"
      },
      "execution_count": null,
      "outputs": [
        {
          "output_type": "stream",
          "name": "stdout",
          "text": [
            "E Transposed using np.transpose():\n",
            " [[-9  6]\n",
            " [ 8 -5]\n",
            " [ 7  4]]\n",
            "E Transposed using .T:\n",
            " [[-9  6]\n",
            " [ 8 -5]\n",
            " [ 7  4]]\n",
            "Matrix product D * E.T:\n",
            " [[ 46  -4]\n",
            " [-34  73]]\n"
          ]
        }
      ]
    },
    {
      "cell_type": "code",
      "source": [],
      "metadata": {
        "id": "l7XG3E6fD0jW"
      },
      "execution_count": null,
      "outputs": []
    }
  ]
}