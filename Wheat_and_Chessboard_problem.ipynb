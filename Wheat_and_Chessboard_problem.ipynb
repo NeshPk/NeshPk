{
  "nbformat": 4,
  "nbformat_minor": 0,
  "metadata": {
    "colab": {
      "provenance": [],
      "authorship_tag": "ABX9TyP4MhgkCIsoi/pX22BcVKZJ",
      "include_colab_link": true
    },
    "kernelspec": {
      "name": "python3",
      "display_name": "Python 3"
    },
    "language_info": {
      "name": "python"
    }
  },
  "cells": [
    {
      "cell_type": "markdown",
      "metadata": {
        "id": "view-in-github",
        "colab_type": "text"
      },
      "source": [
        "<a href=\"https://colab.research.google.com/github/NeshPk/NeshPk/blob/main/Wheat_and_Chessboard_problem.ipynb\" target=\"_parent\"><img src=\"https://colab.research.google.com/assets/colab-badge.svg\" alt=\"Open In Colab\"/></a>"
      ]
    },
    {
      "cell_type": "code",
      "execution_count": 1,
      "metadata": {
        "colab": {
          "base_uri": "https://localhost:8080/"
        },
        "id": "MCWsRklJS229",
        "outputId": "265bb581-faed-4778-eac4-662bf5352cc2"
      },
      "outputs": [
        {
          "output_type": "stream",
          "name": "stdout",
          "text": [
            "Wheat on 4-square board (list): [1, 2, 4, 8]\n"
          ]
        }
      ],
      "source": [
        "n_squares = 4\n",
        "small_board_list = [1]\n",
        "for _ in range(n_squares - 1):\n",
        "    small_board_list.append(2 * small_board_list[-1])\n",
        "print(\"Wheat on 4-square board (list):\", small_board_list)"
      ]
    },
    {
      "cell_type": "code",
      "source": [
        "import numpy as np\n",
        "small_board_ndarray = np.array(small_board_list)\n",
        "print(\"Wheat on 4-square board (ndarray):\", small_board_ndarray)"
      ],
      "metadata": {
        "colab": {
          "base_uri": "https://localhost:8080/"
        },
        "id": "bM_r9LHDTANA",
        "outputId": "2d441e49-ae60-478d-ae3b-bf10f01e15ca"
      },
      "execution_count": 2,
      "outputs": [
        {
          "output_type": "stream",
          "name": "stdout",
          "text": [
            "Wheat on 4-square board (ndarray): [1 2 4 8]\n"
          ]
        }
      ]
    },
    {
      "cell_type": "code",
      "source": [
        "n_rows, n_cols = 2, 2\n",
        "indices = np.arange(n_rows * n_cols)\n",
        "board_2x2 = 2 ** indices\n",
        "board_2x2 = board_2x2.reshape((n_rows, n_cols))\n",
        "print(\"2x2 chessboard:\\n\", board_2x2)"
      ],
      "metadata": {
        "colab": {
          "base_uri": "https://localhost:8080/"
        },
        "id": "_2nV8oA_TF3l",
        "outputId": "63d37be0-f6fe-419e-9521-e4d827f9bbef"
      },
      "execution_count": 3,
      "outputs": [
        {
          "output_type": "stream",
          "name": "stdout",
          "text": [
            "2x2 chessboard:\n",
            " [[1 2]\n",
            " [4 8]]\n"
          ]
        }
      ]
    },
    {
      "cell_type": "code",
      "source": [
        "def wheat_board(n, m):\n",
        "    indices = np.arange(n * m, dtype=np.uint64)\n",
        "    board = 2 ** indices\n",
        "    return board.reshape((n, m))"
      ],
      "metadata": {
        "id": "Rf5jck6ZTJf1"
      },
      "execution_count": 4,
      "outputs": []
    },
    {
      "cell_type": "code",
      "source": [
        "def wheat_board_with_append(n, m):\n",
        "    # Initialize with the first square\n",
        "    board = np.array([1], dtype=np.uint64)\n",
        "    # Loop through the remaining squares and append\n",
        "    for _ in range(1, n * m):\n",
        "        board = np.append(board, 2 * board[-1])\n",
        "    return board.reshape((n, m))\n",
        "\n",
        "# Example usage (optional, you can remove this if just providing the function)\n",
        "board_8x8_append = wheat_board_with_append(8, 8)\n",
        "print(\"First 3 rows of 8x8 chessboard (with append):\\n\", board_8x8_append[:3])"
      ],
      "metadata": {
        "colab": {
          "base_uri": "https://localhost:8080/"
        },
        "id": "wxy312VuTM8V",
        "outputId": "f5f5a48c-e271-4a36-fa25-5da6426c1769"
      },
      "execution_count": 15,
      "outputs": [
        {
          "output_type": "stream",
          "name": "stdout",
          "text": [
            "First 3 rows of 8x8 chessboard (with append):\n",
            " [[      1       2       4       8      16      32      64     128]\n",
            " [    256     512    1024    2048    4096    8192   16384   32768]\n",
            " [  65536  131072  262144  524288 1048576 2097152 4194304 8388608]]\n"
          ]
        }
      ]
    },
    {
      "cell_type": "code",
      "source": [
        "total_wheat = board_8x8.sum()\n",
        "print(\"Total wheat on 8x8 chessboard:\", total_wheat)"
      ],
      "metadata": {
        "colab": {
          "base_uri": "https://localhost:8080/"
        },
        "id": "8rrm1LuSTTMd",
        "outputId": "e856a04f-fe5b-4e9c-8173-a8c55ccf8587"
      },
      "execution_count": 6,
      "outputs": [
        {
          "output_type": "stream",
          "name": "stdout",
          "text": [
            "Total wheat on 8x8 chessboard: 18446744073709551615\n"
          ]
        }
      ]
    },
    {
      "cell_type": "code",
      "source": [
        "column_means = board_8x8.mean(axis=0)\n",
        "print(\"Column averages on 8x8 chessboard:\", column_means)"
      ],
      "metadata": {
        "colab": {
          "base_uri": "https://localhost:8080/"
        },
        "id": "f6v0AERsTWRV",
        "outputId": "5485d697-1c81-4265-f3cf-7f72b544e5e7"
      },
      "execution_count": 7,
      "outputs": [
        {
          "output_type": "stream",
          "name": "stdout",
          "text": [
            "Column averages on 8x8 chessboard: [9.04252160e+15 1.80850432e+16 3.61700864e+16 7.23401728e+16\n",
            " 1.44680346e+17 2.89360691e+17 5.78721383e+17 1.15744277e+18]\n"
          ]
        }
      ]
    },
    {
      "cell_type": "code",
      "source": [
        "import matplotlib.pyplot as plt\n",
        "\n",
        "plt.figure(figsize=(8, 4))\n",
        "plt.xlabel(\"Column\")\n",
        "plt.ylabel(\"Average number\")\n",
        "plt.title(\"Average number of wheat grains per column (8x8 chessboard)\")\n",
        "plt.bar(np.arange(1, 9), column_means)\n",
        "plt.tight_layout()\n",
        "plt.show()"
      ],
      "metadata": {
        "colab": {
          "base_uri": "https://localhost:8080/",
          "height": 407
        },
        "id": "XArNUxqhTZk0",
        "outputId": "3ffa6f28-6dca-49af-ea9c-ac2e49e68332"
      },
      "execution_count": 8,
      "outputs": [
        {
          "output_type": "display_data",
          "data": {
            "text/plain": [
              "<Figure size 800x400 with 1 Axes>"
            ],
            "image/png": "[encoded data removed]"
          },
          "metadata": {}
        }
      ]
    },
    {
      "cell_type": "code",
      "source": [
        "plt.figure(figsize=(8, 6))\n",
        "plt.xlabel(\"Column\")\n",
        "plt.ylabel(\"Row\")\n",
        "plt.title(\"Heatmap of wheat numbers (8x8 chessboard)\")\n",
        "plt.pcolor(board_8x8, cmap='viridis')\n",
        "plt.colorbar(label='Number of wheat grains')\n",
        "plt.tight_layout()\n",
        "plt.show()"
      ],
      "metadata": {
        "colab": {
          "base_uri": "https://localhost:8080/",
          "height": 607
        },
        "id": "YhBkQLS-Tcr8",
        "outputId": "9298cf92-6fa7-4982-8e90-ac19bcc2b502"
      },
      "execution_count": 9,
      "outputs": [
        {
          "output_type": "display_data",
          "data": {
            "text/plain": [
              "<Figure size 800x600 with 2 Axes>"
            ],
            "image/png": "[encoded data removed]"
          },
          "metadata": {}
        }
      ]
    },
    {
      "cell_type": "code",
      "source": [
        "first_half_sum = board_8x8[:4, :].sum()\n",
        "second_half_sum = board_8x8[4:, :].sum()\n",
        "ratio_half = second_half_sum / first_half_sum\n",
        "print(\"Ratio of wheat in second half to first half (rows 4-7 vs 0-3):\", ratio_half)"
      ],
      "metadata": {
        "colab": {
          "base_uri": "https://localhost:8080/"
        },
        "id": "MET906bzTfRd",
        "outputId": "ba3a7932-0dbc-46f3-d595-adaa57fa0d0d"
      },
      "execution_count": 10,
      "outputs": [
        {
          "output_type": "stream",
          "name": "stdout",
          "text": [
            "Ratio of wheat in second half to first half (rows 4-7 vs 0-3): 4294967296.0\n"
          ]
        }
      ]
    },
    {
      "cell_type": "code",
      "source": [
        "n_squares = 4\n",
        "small_board_ndarray_append = np.array([1])\n",
        "for _ in range(n_squares - 1):\n",
        "    small_board_ndarray_append = np.append(small_board_ndarray_append, 2 * small_board_ndarray_append[-1])\n",
        "print(\"Wheat on 4-square board (ndarray with append):\", small_board_ndarray_append)"
      ],
      "metadata": {
        "colab": {
          "base_uri": "https://localhost:8080/"
        },
        "id": "N45i_EPRTjuF",
        "outputId": "8dd53f4f-4b6b-4699-fd10-2a5ccc5b8b7a"
      },
      "execution_count": 11,
      "outputs": [
        {
          "output_type": "stream",
          "name": "stdout",
          "text": [
            "Wheat on 4-square board (ndarray with append): [1 2 4 8]\n"
          ]
        }
      ]
    },
    {
      "cell_type": "code",
      "source": [
        "n_squares = 4\n",
        "indices_of_squares = np.arange(n_squares)\n",
        "small_board_ndarray_broadcast = 2 ** indices_of_squares\n",
        "print(\"Wheat on 4-square board (ndarray with broadcasting):\", small_board_ndarray_broadcast)"
      ],
      "metadata": {
        "colab": {
          "base_uri": "https://localhost:8080/"
        },
        "id": "Op90Sa35TnCN",
        "outputId": "05f043aa-db8b-4134-cec4-f9fee09d27a2"
      },
      "execution_count": 12,
      "outputs": [
        {
          "output_type": "stream",
          "name": "stdout",
          "text": [
            "Wheat on 4-square board (ndarray with broadcasting): [1 2 4 8]\n"
          ]
        }
      ]
    },
    {
      "cell_type": "code",
      "source": [
        "n_squares = 64\n",
        "indices_of_squares_64 = np.arange(n_squares, dtype=np.uint64)\n",
        "board_ndarray_64 = 2 ** indices_of_squares_64\n",
        "print(\"Number of wheat on the last square (64th):\", board_ndarray_64[-1])"
      ],
      "metadata": {
        "colab": {
          "base_uri": "https://localhost:8080/"
        },
        "id": "vZa2fjo_Tp4n",
        "outputId": "5db804ed-58ad-4b6d-becf-dc71ecdc6ed4"
      },
      "execution_count": 16,
      "outputs": [
        {
          "output_type": "stream",
          "name": "stdout",
          "text": [
            "Number of wheat on the last square (64th): 9223372036854775808\n"
          ]
        }
      ]
    },
    {
      "cell_type": "code",
      "source": [
        "# In Jupyter, use:\n",
        "# %%timeit\n",
        "indices = np.arange(64, dtype=np.uint64)\n",
        "board = 2 ** indices"
      ],
      "metadata": {
        "id": "BtGDjWDCTsy1"
      },
      "execution_count": 17,
      "outputs": []
    },
    {
      "cell_type": "code",
      "source": [],
      "metadata": {
        "id": "rbEjpP9NTwBk"
      },
      "execution_count": null,
      "outputs": []
    }
  ]
}