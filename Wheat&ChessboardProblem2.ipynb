{
  "nbformat": 4,
  "nbformat_minor": 0,
  "metadata": {
    "colab": {
      "provenance": [],
      "include_colab_link": true
    },
    "kernelspec": {
      "name": "python3",
      "display_name": "Python 3"
    },
    "language_info": {
      "name": "python"
    }
  },
  "cells": [
    {
      "cell_type": "markdown",
      "metadata": {
        "id": "view-in-github",
        "colab_type": "text"
      },
      "source": [
        "<a href=\"https://colab.research.google.com/github/NeshPk/NeshPk/blob/main/Wheat%26ChessboardProblem2.ipynb\" target=\"_parent\"><img src=\"https://colab.research.google.com/assets/colab-badge.svg\" alt=\"Open In Colab\"/></a>"
      ]
    },
    {
      "cell_type": "markdown",
      "source": [
        "##### 【Problem 1 】2 ×2 Number of trout chess board wheat"
      ],
      "metadata": {
        "id": "y2lP33cddsEk"
      }
    },
    {
      "cell_type": "code",
      "source": [
        "import numpy as np\n",
        "\n",
        "n_square = 4 #2by2\n",
        "board_list = [1] #starting with 1 grain\n",
        "\n",
        "for box in range(n_square-1):\n",
        "    board_list.append(board_list[-1]*2)\n",
        "\n",
        "board_grid = np.array(board_list)\n",
        "print(\"Wheat grains on each square 1D:\", board_grid)\n",
        "\n",
        "#Re-shape to a 2 x 2\n",
        "board_2x2 = board_grid.reshape(2,2)\n",
        "print(\"\\nWheat grains on each square 2D:\\n\", board_2x2)\n",
        "\n",
        "# Calculate the number of wheat in each trout.\n",
        "print(\"\\nNumber of wheat in each trout:\")\n",
        "for row in board_2x2:\n",
        "    for grain in row:\n",
        "        print(grain, end=\" \")\n",
        "    print()\n",
        "\n",
        "#calculate the total number of wheat.\n",
        "total_wheat = np.sum(board_grid)\n",
        "print(\"\\nTotal number of wheat:\", {total_wheat})\n",
        "\n",
        "#example of other reshaping\n",
        "board_1x4 = board_grid.reshape(1,4)\n",
        "print(f\"\\nReshaped to 4x1:\\n {board_1x4}\")\n",
        "\n",
        "board_4x1 = board_grid.reshape(4,1)\n",
        "print(f\"\\nReshaped to 4x1:\\n {board_4x1}\")\n",
        "\n"
      ],
      "metadata": {
        "colab": {
          "base_uri": "https://localhost:8080/"
        },
        "id": "vGS0mOqsdvrV",
        "outputId": "e3e1b721-ee17-48b9-8f98-b83c5dacad53"
      },
      "execution_count": null,
      "outputs": [
        {
          "output_type": "stream",
          "name": "stdout",
          "text": [
            "Wheat grains on each square 1D: [1 2 4 8]\n",
            "\n",
            "Wheat grains on each square 2D:\n",
            " [[1 2]\n",
            " [4 8]]\n",
            "\n",
            "Number of wheat in each trout:\n",
            "1 2 \n",
            "4 8 \n",
            "\n",
            "Total number of wheat: {np.int64(15)}\n",
            "\n",
            "Reshaped to 4x1:\n",
            " [[1 2 4 8]]\n",
            "\n",
            "Reshaped to 4x1:\n",
            " [[1]\n",
            " [2]\n",
            " [4]\n",
            " [8]]\n"
          ]
        }
      ]
    },
    {
      "cell_type": "markdown",
      "source": [
        "##### 【Problem 2 】n × m Expansion to mass"
      ],
      "metadata": {
        "id": "6b8juqXK3MCG"
      }
    },
    {
      "cell_type": "code",
      "source": [
        "import numpy as np\n",
        "\n",
        "def wheat_board(n, m):\n",
        "\n",
        "    total_squares = n * m\n",
        "    board_list = [1]\n",
        "    for _ in range(total_squares - 1):\n",
        "        board_list.append(2 * board_list[-1])\n",
        "    board_ndarray = np.array(board_list).reshape((n, m))\n",
        "    return board_ndarray\n",
        "\n",
        "# 8x8 chessboard\n",
        "n = 8\n",
        "m = 8\n",
        "board_8x8 = wheat_board(n, m)\n",
        "\n",
        "print(\"8x8 Wheat Board:\")\n",
        "print(board_8x8)\n",
        "\n",
        "total_grains_8x8 = np.sum(board_8x8)\n",
        "print(\"\\nTotal grains on 8x8 board:\", total_grains_8x8)\n",
        "\n",
        "#verification.\n",
        "total_grains_direct = 2**64 -1\n",
        "print(\"\\nTotal grains of wheat calculated directly:\", total_grains_direct)"
      ],
      "metadata": {
        "colab": {
          "base_uri": "https://localhost:8080/"
        },
        "id": "w6kNrOtUgxfy",
        "outputId": "a6910832-266c-4b4c-f60c-c807c1416a11"
      },
      "execution_count": null,
      "outputs": [
        {
          "output_type": "stream",
          "name": "stdout",
          "text": [
            "8x8 Wheat Board:\n",
            "[[1.00000000e+00 2.00000000e+00 4.00000000e+00 8.00000000e+00\n",
            "  1.60000000e+01 3.20000000e+01 6.40000000e+01 1.28000000e+02]\n",
            " [2.56000000e+02 5.12000000e+02 1.02400000e+03 2.04800000e+03\n",
            "  4.09600000e+03 8.19200000e+03 1.63840000e+04 3.27680000e+04]\n",
            " [6.55360000e+04 1.31072000e+05 2.62144000e+05 5.24288000e+05\n",
            "  1.04857600e+06 2.09715200e+06 4.19430400e+06 8.38860800e+06]\n",
            " [1.67772160e+07 3.35544320e+07 6.71088640e+07 1.34217728e+08\n",
            "  2.68435456e+08 5.36870912e+08 1.07374182e+09 2.14748365e+09]\n",
            " [4.29496730e+09 8.58993459e+09 1.71798692e+10 3.43597384e+10\n",
            "  6.87194767e+10 1.37438953e+11 2.74877907e+11 5.49755814e+11]\n",
            " [1.09951163e+12 2.19902326e+12 4.39804651e+12 8.79609302e+12\n",
            "  1.75921860e+13 3.51843721e+13 7.03687442e+13 1.40737488e+14]\n",
            " [2.81474977e+14 5.62949953e+14 1.12589991e+15 2.25179981e+15\n",
            "  4.50359963e+15 9.00719925e+15 1.80143985e+16 3.60287970e+16]\n",
            " [7.20575940e+16 1.44115188e+17 2.88230376e+17 5.76460752e+17\n",
            "  1.15292150e+18 2.30584301e+18 4.61168602e+18 9.22337204e+18]]\n",
            "\n",
            "Total grains on 8x8 board: 1.8446744073709552e+19\n",
            "\n",
            "Total grains of wheat calculated directly: 18446744073709551615\n"
          ]
        }
      ]
    },
    {
      "cell_type": "markdown",
      "source": [
        "##### 【Problem 3 】 Total number of wheat"
      ],
      "metadata": {
        "id": "AnN7HAbc3dq6"
      }
    },
    {
      "cell_type": "code",
      "source": [
        "import numpy as np\n",
        "import matplotlib.pyplot as plt\n",
        "\n",
        "def wheat_board(n, m):\n",
        "\n",
        "    total_squares = n * m\n",
        "    board_list = [1]\n",
        "    for _ in range(total_squares - 1):\n",
        "        board_list.append(2 * board_list[-1])\n",
        "    board_ndarray = np.array(board_list).reshape((n, m))\n",
        "    return board_ndarray\n",
        "\n",
        "# 8x8 chessboard\n",
        "n = 8\n",
        "m = 8\n",
        "board_8x8 = wheat_board(n, m)\n",
        "\n",
        "# Total grains\n",
        "total_grains_8x8 = np.sum(board_8x8)\n",
        "print(\"Total grains on 8x8 board:\", total_grains_8x8)\n",
        "\n",
        "# Average of each column\n",
        "column_averages = np.mean(board_8x8, axis=0)\n",
        "print(\"\\nAverage grains per column:\", column_averages)\n",
        "\n",
        "# Bar chart visualization\n",
        "plt.xlabel(\"Column\")\n",
        "plt.ylabel(\"Average Number of Grains\")\n",
        "plt.title(\"Average Number of Grains in Each Column\")\n",
        "plt.bar(np.arange(1, 9), column_averages)  # Use 1 to 8 for column indices\n",
        "plt.show()"
      ],
      "metadata": {
        "colab": {
          "base_uri": "https://localhost:8080/",
          "height": 545
        },
        "id": "5NRs36hW3UBf",
        "outputId": "f51972d0-80d9-42a3-d19b-7d8bd6a456fa"
      },
      "execution_count": null,
      "outputs": [
        {
          "output_type": "stream",
          "name": "stdout",
          "text": [
            "Total grains on 8x8 board: 1.8446744073709552e+19\n",
            "\n",
            "Average grains per column: [9.04252160e+15 1.80850432e+16 3.61700864e+16 7.23401728e+16\n",
            " 1.44680346e+17 2.89360691e+17 5.78721383e+17 1.15744277e+18]\n"
          ]
        },
        {
          "output_type": "display_data",
          "data": {
            "text/plain": [
              "<Figure size 640x480 with 1 Axes>"
            ],
            "image/png": "[encoded data removed]"
          },
          "metadata": {}
        }
      ]
    },
    {
      "cell_type": "markdown",
      "source": [
        "##### 【Problem 4 】 Heat map of wheat number"
      ],
      "metadata": {
        "id": "muuQmtcl37v1"
      }
    },
    {
      "cell_type": "code",
      "source": [
        "import numpy as np\n",
        "import matplotlib.pyplot as plt\n",
        "\n",
        "def wheat_board(n, m):\n",
        "\n",
        "    total_squares = n * m\n",
        "    board_list = [1]\n",
        "    for _ in range(total_squares - 1):\n",
        "        board_list.append(2 * board_list[-1])\n",
        "    board_ndarray = np.array(board_list).reshape((n, m))\n",
        "    return board_ndarray\n",
        "\n",
        "# 8x8 chessboard\n",
        "n = 8\n",
        "m = 8\n",
        "board_8x8 = wheat_board(n, m)\n",
        "\n",
        "# Heat map visualization\n",
        "plt.xlabel(\"Column\")\n",
        "plt.ylabel(\"Row\")\n",
        "plt.title(\"Heatmap of Wheat Grains on 8x8 Chessboard\")\n",
        "plt.pcolor(board_8x8)\n",
        "plt.colorbar()  # Add a colorbar to show the scale\n",
        "plt.show()"
      ],
      "metadata": {
        "colab": {
          "base_uri": "https://localhost:8080/",
          "height": 472
        },
        "id": "oZBb2W_L3uro",
        "outputId": "7f647831-462e-4b5c-d34e-e455d9cdabd2"
      },
      "execution_count": null,
      "outputs": [
        {
          "output_type": "display_data",
          "data": {
            "text/plain": [
              "<Figure size 640x480 with 2 Axes>"
            ],
            "image/png": "[encoded data removed]"
          },
          "metadata": {}
        }
      ]
    },
    {
      "cell_type": "markdown",
      "source": [
        "##### 【Problem 5 】 How many times the second half"
      ],
      "metadata": {
        "id": "kCWQeBUp4hTu"
      }
    },
    {
      "cell_type": "code",
      "source": [
        "import numpy as np\n",
        "\n",
        "def wheat_board(n, m):\n",
        "\n",
        "    total_squares = n * m\n",
        "    board_list = [1]\n",
        "    for _ in range(total_squares - 1):\n",
        "        board_list.append(2 * board_list[-1])\n",
        "    board_ndarray = np.array(board_list).reshape((n, m))\n",
        "    return board_ndarray\n",
        "\n",
        "# 8x8 chessboard\n",
        "n = 8\n",
        "m = 8\n",
        "board_8x8 = wheat_board(n, m)\n",
        "\n",
        "# Calculate the total number of wheat in the first half\n",
        "first_half_sum = np.sum(board_8x8[:4, :])\n",
        "\n",
        "# Calculate the total number of wheat in the second half\n",
        "second_half_sum = np.sum(board_8x8[4:, :])\n",
        "\n",
        "# Calculate the ratio of the second half to the first half\n",
        "ratio = second_half_sum / first_half_sum\n",
        "\n",
        "print(f\"Ratio of wheat in the second half to the first half: {ratio:.2f}\")"
      ],
      "metadata": {
        "colab": {
          "base_uri": "https://localhost:8080/"
        },
        "id": "f-1WHFHD4Bc6",
        "outputId": "c936bae6-6fb9-41e2-912e-a10da5eb731f"
      },
      "execution_count": null,
      "outputs": [
        {
          "output_type": "stream",
          "name": "stdout",
          "text": [
            "Ratio of wheat in the second half to the first half: 4294967296.00\n"
          ]
        }
      ]
    },
    {
      "cell_type": "markdown",
      "source": [
        "##### 【Problem 6 】 Expansion to n× m mass by other calculation methods"
      ],
      "metadata": {
        "id": "0NHGxNge6Hbb"
      }
    },
    {
      "cell_type": "code",
      "source": [
        "import numpy as np\n",
        "\n",
        " #Creates an n x m ndarray representing a chessboard with wheat grains (using np.append).\n",
        "def wheat_board_append(n, m):\n",
        "\n",
        "    total_squares = n * m\n",
        "    board_ndarray = np.array([1], dtype=np.uint64) # Specify dtype\n",
        "    for _ in range(total_squares - 1):\n",
        "        board_ndarray = np.append(board_ndarray, 2 * board_ndarray[-1])\n",
        "    return board_ndarray.reshape((n, m))\n",
        "\n",
        "\n",
        "#Creates an n x m ndarray representing a chessboard with wheat grains (using broadcasting)\n",
        "def wheat_board_broadcast(n, m):\n",
        "\n",
        "    total_squares = n * m\n",
        "    indices_of_squares = np.arange(total_squares, dtype=np.uint64) # Specify dtype\n",
        "    board_ndarray = 2**indices_of_squares\n",
        "    return board_ndarray.reshape((n, m))\n",
        "\n",
        "# 8x8 chessboard\n",
        "n = 8\n",
        "m = 8\n",
        "\n",
        "# Using np.append()\n",
        "board_8x8_append = wheat_board_append(n, m)\n",
        "print(\"8x8 Wheat Board (np.append):\")\n",
        "print(board_8x8_append)\n",
        "total_grains_append = np.sum(board_8x8_append)\n",
        "print(\"\\nTotal grains on 8x8 board (np.append):\", total_grains_append)\n",
        "\n",
        "# Using broadcasting\n",
        "board_8x8_broadcast = wheat_board_broadcast(n, m)\n",
        "print(\"\\n8x8 Wheat Board (broadcast):\")\n",
        "print(board_8x8_broadcast)\n",
        "total_grains_broadcast = np.sum(board_8x8_broadcast)\n",
        "print(\"\\nTotal grains on 8x8 board (broadcast):\", total_grains_broadcast)\n",
        "\n",
        "#verification.\n",
        "total_grains_direct = 2**64 -1\n",
        "print(\"\\nTotal grains of wheat calculated directly:\", total_grains_direct)"
      ],
      "metadata": {
        "colab": {
          "base_uri": "https://localhost:8080/"
        },
        "id": "Pxq3bvEK4pC6",
        "outputId": "6d9bec2f-511a-4859-b0ce-4f4e29a1a8be"
      },
      "execution_count": null,
      "outputs": [
        {
          "output_type": "stream",
          "name": "stdout",
          "text": [
            "8x8 Wheat Board (np.append):\n",
            "[[                  1                   2                   4\n",
            "                    8                  16                  32\n",
            "                   64                 128]\n",
            " [                256                 512                1024\n",
            "                 2048                4096                8192\n",
            "                16384               32768]\n",
            " [              65536              131072              262144\n",
            "               524288             1048576             2097152\n",
            "              4194304             8388608]\n",
            " [           16777216            33554432            67108864\n",
            "            134217728           268435456           536870912\n",
            "           1073741824          2147483648]\n",
            " [         4294967296          8589934592         17179869184\n",
            "          34359738368         68719476736        137438953472\n",
            "         274877906944        549755813888]\n",
            " [      1099511627776       2199023255552       4398046511104\n",
            "        8796093022208      17592186044416      35184372088832\n",
            "       70368744177664     140737488355328]\n",
            " [    281474976710656     562949953421312    1125899906842624\n",
            "     2251799813685248    4503599627370496    9007199254740992\n",
            "    18014398509481984   36028797018963968]\n",
            " [  72057594037927936  144115188075855872  288230376151711744\n",
            "   576460752303423488 1152921504606846976 2305843009213693952\n",
            "  4611686018427387904 9223372036854775808]]\n",
            "\n",
            "Total grains on 8x8 board (np.append): 18446744073709551615\n",
            "\n",
            "8x8 Wheat Board (broadcast):\n",
            "[[                  1                   2                   4\n",
            "                    8                  16                  32\n",
            "                   64                 128]\n",
            " [                256                 512                1024\n",
            "                 2048                4096                8192\n",
            "                16384               32768]\n",
            " [              65536              131072              262144\n",
            "               524288             1048576             2097152\n",
            "              4194304             8388608]\n",
            " [           16777216            33554432            67108864\n",
            "            134217728           268435456           536870912\n",
            "           1073741824          2147483648]\n",
            " [         4294967296          8589934592         17179869184\n",
            "          34359738368         68719476736        137438953472\n",
            "         274877906944        549755813888]\n",
            " [      1099511627776       2199023255552       4398046511104\n",
            "        8796093022208      17592186044416      35184372088832\n",
            "       70368744177664     140737488355328]\n",
            " [    281474976710656     562949953421312    1125899906842624\n",
            "     2251799813685248    4503599627370496    9007199254740992\n",
            "    18014398509481984   36028797018963968]\n",
            " [  72057594037927936  144115188075855872  288230376151711744\n",
            "   576460752303423488 1152921504606846976 2305843009213693952\n",
            "  4611686018427387904 9223372036854775808]]\n",
            "\n",
            "Total grains on 8x8 board (broadcast): 18446744073709551615\n",
            "\n",
            "Total grains of wheat calculated directly: 18446744073709551615\n"
          ]
        }
      ]
    },
    {
      "cell_type": "markdown",
      "source": [
        "##### 【Question 7】Comparison of calculation time"
      ],
      "metadata": {
        "id": "ytrQBnXk6V93"
      }
    },
    {
      "cell_type": "code",
      "source": [
        "import numpy as np\n",
        "\n",
        "def wheat_board_list(n, m):\n",
        "    \"\"\"Creates an n x m ndarray using a list and for loop.\"\"\"\n",
        "    total_squares = n * m\n",
        "    board_list = [1]\n",
        "    for _ in range(total_squares - 1):\n",
        "        board_list.append(2 * board_list[-1])\n",
        "    return np.array(board_list, dtype=np.uint64).reshape((n, m)) # Specify dtype\n",
        "\n",
        "def wheat_board_append(n, m):\n",
        "    \"\"\"Creates an n x m ndarray using np.append().\"\"\"\n",
        "    total_squares = n * m\n",
        "    board_ndarray = np.array([1], dtype=np.uint64) # Specify dtype\n",
        "    for _ in range(total_squares - 1):\n",
        "        board_ndarray = np.append(board_ndarray, 2 * board_ndarray[-1])\n",
        "    return board_ndarray.reshape((n, m))\n",
        "\n",
        "def wheat_board_broadcast(n, m):\n",
        "    \"\"\"Creates an n x m ndarray using broadcasting.\"\"\"\n",
        "    total_squares = n * m\n",
        "    indices_of_squares = np.arange(total_squares, dtype=np.uint64) # Specify dtype\n",
        "    board_ndarray = 2**indices_of_squares\n",
        "    return board_ndarray.reshape((n, m))\n",
        "\n",
        "n = 8\n",
        "m = 8\n",
        "\n",
        "print(\"List and for loop:\")\n",
        "%timeit wheat_board_list(n, m)\n",
        "\n",
        "print(\"\\nnp.append():\")\n",
        "%timeit wheat_board_append(n, m)\n",
        "\n",
        "print(\"\\nBroadcasting:\")\n",
        "%timeit wheat_board_broadcast(n, m)"
      ],
      "metadata": {
        "colab": {
          "base_uri": "https://localhost:8080/"
        },
        "id": "lZ7R9fu15lbF",
        "outputId": "659ee88c-2f06-47a0-9244-5101e50ded98"
      },
      "execution_count": null,
      "outputs": [
        {
          "output_type": "stream",
          "name": "stdout",
          "text": [
            "List and for loop:\n",
            "11.4 µs ± 2.94 µs per loop (mean ± std. dev. of 7 runs, 100000 loops each)\n",
            "\n",
            "np.append():\n",
            "285 µs ± 9.66 µs per loop (mean ± std. dev. of 7 runs, 1000 loops each)\n",
            "\n",
            "Broadcasting:\n",
            "3.06 µs ± 182 ns per loop (mean ± std. dev. of 7 runs, 100000 loops each)\n"
          ]
        }
      ]
    },
    {
      "cell_type": "code",
      "source": [],
      "metadata": {
        "id": "0X3qE9jT6oAx"
      },
      "execution_count": null,
      "outputs": []
    }
  ]
}