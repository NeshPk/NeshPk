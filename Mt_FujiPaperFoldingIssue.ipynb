{
  "nbformat": 4,
  "nbformat_minor": 0,
  "metadata": {
    "colab": {
      "provenance": [],
      "include_colab_link": true
    },
    "kernelspec": {
      "name": "python3",
      "display_name": "Python 3"
    },
    "language_info": {
      "name": "python"
    }
  },
  "cells": [
    {
      "cell_type": "markdown",
      "metadata": {
        "id": "view-in-github",
        "colab_type": "text"
      },
      "source": [
        "<a href=\"https://colab.research.google.com/github/NeshPk/NeshPk/blob/main/Mt_FujiPaperFoldingIssue.ipynb\" target=\"_parent\"><img src=\"https://colab.research.google.com/assets/colab-badge.svg\" alt=\"Open In Colab\"/></a>"
      ]
    },
    {
      "cell_type": "markdown",
      "source": [
        "#####【Problem 1 】 How many times do you break over Mt. Fuji?\n"
      ],
      "metadata": {
        "id": "P46JKacMAOYY"
      }
    },
    {
      "cell_type": "code",
      "execution_count": 1,
      "metadata": {
        "colab": {
          "base_uri": "https://localhost:8080/"
        },
        "id": "M_lUaWQz9eUy",
        "outputId": "31f33bca-2b5a-4455-a70f-e1dd1171caef"
      },
      "outputs": [
        {
          "output_type": "stream",
          "name": "stdout",
          "text": [
            "It takes 26 folds to reach Mt. Fuji.\n"
          ]
        }
      ],
      "source": [
        "def folds_to_reach_thickness(desired_thickness,initial_thickness=0.00008):\n",
        "  if desired_thickness <=0 or initial_thickness <=0:\n",
        "    return None\n",
        "\n",
        "  current_thickness = initial_thickness\n",
        "  folds = 0\n",
        "  while current_thickness < desired_thickness:\n",
        "    current_thickness *= 2\n",
        "    folds += 1\n",
        "  return folds\n",
        "\n",
        "  #How many times to break over Mt. Fuji\n",
        "fuji_mountaintain_height = 3776 #meters\n",
        "folds_to_fuji = folds_to_reach_thickness(fuji_mountaintain_height)\n",
        "print(f\"It takes {folds_to_fuji} folds to reach Mt. Fuji.\")\n",
        "\n",
        "\n"
      ]
    },
    {
      "cell_type": "markdown",
      "source": [
        "##### 【Problem 2 】 Function corresponding to any thickness"
      ],
      "metadata": {
        "id": "NgtFkeLdDC9l"
      }
    },
    {
      "cell_type": "code",
      "source": [
        "#Calculates the minimum number of times to fold a sheet of paper to reach a target thickness\n",
        "\n",
        "def count_folds(desired_thickness, initial_thickness=0.00008):\n",
        "    if desired_thickness <= 0 or initial_thickness <= 0:\n",
        "        return None\n",
        "    current_thickness = initial_thickness\n",
        "    folds = 0\n",
        "    while current_thickness < desired_thickness:\n",
        "        current_thickness *= 2\n",
        "        folds += 1\n",
        "    return folds\n",
        "\n",
        "# Earth to 'Proxima Centauri\n",
        "proxima_centauri_distance = 4.0175*10**16  # meters\n",
        "\n",
        "#count the number of folds\n",
        "folds_to_proxima_centauri = count_folds(proxima_centauri_distance)\n",
        "\n",
        "print(f\"Number of folds to reach Proxima Centauri: {folds_to_proxima_centauri}\")\n"
      ],
      "metadata": {
        "colab": {
          "base_uri": "https://localhost:8080/"
        },
        "id": "CGUI6SXj-rrR",
        "outputId": "c7d255d6-b935-4f03-d6f6-9791079c5734"
      },
      "execution_count": null,
      "outputs": [
        {
          "output_type": "stream",
          "name": "stdout",
          "text": [
            "Number of folds to reach Proxima Centauri: 69\n"
          ]
        }
      ]
    },
    {
      "cell_type": "markdown",
      "source": [
        "#####【Problem 3 】 Required paper length"
      ],
      "metadata": {
        "id": "w5ssdydkHkJ8"
      }
    },
    {
      "cell_type": "code",
      "source": [
        "# Calculates the length of paper required to fold it a given number of times.\n",
        "def paper_length_needed(fold_count, initial_thickness=0.00008):\n",
        "    if fold_count <= 0 or initial_thickness <= 0:\n",
        "        return None\n",
        "\n",
        "    p = 3.141592653589793 #Approximate value of pi\n",
        "    length = (p * initial_thickness) / 6 * (2**fold_count + 4) * (2**fold_count - 1)\n",
        "    return length\n",
        "\n",
        "def get_folds_to_reach_thickness(desired_thickness, initial_thickness=0.00008):\n",
        "    if desired_thickness <= 0 or initial_thickness <= 0:\n",
        "        return None\n",
        "    current_thickness = initial_thickness\n",
        "    folds = 0\n",
        "    while current_thickness < desired_thickness:\n",
        "        current_thickness *= 2\n",
        "        folds += 1\n",
        "    return folds\n",
        "\n",
        "#Different Distances\n",
        "proxima_centauri_distance = 4.0175*10**16  # meters\n",
        "fuji_mountaintain_height = 3776 #meters\n",
        "distance_to_moon = 384400000  # meters\n",
        "\n",
        "#totall folds needed\n",
        "required_folds_moon = get_folds_to_reach_thickness(distance_to_moon)\n",
        "required_folds_fuji = get_folds_to_reach_thickness(fuji_mountaintain_height)\n",
        "required_folds_proxima_centauri = get_folds_to_reach_thickness(proxima_centauri_distance)\n",
        "\n",
        "#lengthmof the paper\n",
        "length_of_paper_moon = paper_length_needed(required_folds_moon)\n",
        "length_of_paper_fuji = paper_length_needed(required_folds_fuji)\n",
        "length_of_paper_proxima_centauri = paper_length_needed(required_folds_proxima_centauri)\n",
        "\n",
        "print(f\"To reach the MOON ({distance_to_moon:.2e}m), you need {required_folds_moon} folds, and a paper length of {length_of_paper_moon:2e}m.\")\n",
        "print(f\"To reach Mt. Fuji ({fuji_mountaintain_height}m), you need {required_folds_fuji} folds, and a paper length of {length_of_paper_fuji:2e}m.\")\n",
        "print(f\"To reach Proxima Centauri ({proxima_centauri_distance:.2e}m), you need {required_folds_proxima_centauri} folds, and a paper length of {length_of_paper_proxima_centauri:2e}m.\")\n",
        "\n"
      ],
      "metadata": {
        "colab": {
          "base_uri": "https://localhost:8080/"
        },
        "id": "TzwnmZF6Feb_",
        "outputId": "fd4ea4ad-ba19-4d10-f221-86356e56e514"
      },
      "execution_count": null,
      "outputs": [
        {
          "output_type": "stream",
          "name": "stdout",
          "text": [
            "To reach the MOON (3.84e+08m), you need 43 folds, and a paper length of 3.240919e+21m.\n",
            "To reach Mt. Fuji (3776m), you need 26 folds, and a paper length of 1.886463e+11m.\n",
            "To reach Proxima Centauri (4.02e+16m), you need 69 folds, and a paper length of 1.459580e+37m.\n"
          ]
        }
      ]
    },
    {
      "cell_type": "code",
      "source": [],
      "metadata": {
        "id": "U5WmzOuUMLQT"
      },
      "execution_count": null,
      "outputs": []
    }
  ]
}